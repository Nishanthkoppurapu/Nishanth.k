{
  "nbformat": 4,
  "nbformat_minor": 0,
  "metadata": {
    "colab": {
      "provenance": []
    },
    "kernelspec": {
      "name": "python3",
      "display_name": "Python 3"
    },
    "language_info": {
      "name": "python"
    }
  },
  "cells": [
    {
      "cell_type": "code",
      "source": [
        "import torch\n",
        "import torch.nn as nn\n",
        "import torch.optim as optim\n",
        "from transformers import AutoModel, AutoTokenizer"
      ],
      "metadata": {
        "id": "tC1UVhGHzrHn"
      },
      "execution_count": 2,
      "outputs": []
    },
    {
      "cell_type": "code",
      "execution_count": 4,
      "metadata": {
        "colab": {
          "base_uri": "https://localhost:8080/"
        },
        "id": "BPK_TLdtyLxl",
        "outputId": "67f12c3f-8131-487b-824e-966ade703ff1"
      },
      "outputs": [
        {
          "output_type": "stream",
          "name": "stdout",
          "text": [
            "Sentence Classification Output Shape: torch.Size([2, 3])\n"
          ]
        }
      ],
      "source": [
        "# Sentence Classification Model Definition\n",
        "\n",
        "class SentenceClassificationTransformer(nn.Module):\n",
        "    def __init__(self, model_name=\"bert-base-uncased\", num_classes=3):\n",
        "        super(SentenceClassificationTransformer, self).__init__()\n",
        "        self.encoder = AutoModel.from_pretrained(model_name)\n",
        "        self.tokenizer = AutoTokenizer.from_pretrained(model_name)\n",
        "\n",
        "        # Mean Pooling Layer\n",
        "        self.pooling = nn.AdaptiveAvgPool1d(1)\n",
        "\n",
        "        # Task A: Sentence Classification\n",
        "        self.classifier = nn.Linear(self.encoder.config.hidden_size, num_classes)\n",
        "    def mean_pooling(self, token_embeddings, attention_mask):\n",
        "        \"\"\"Compute mean pooling over token embeddings based on attention mask\"\"\"\n",
        "        input_mask_expanded = attention_mask.unsqueeze(-1).expand(token_embeddings.size())\n",
        "        sum_embeddings = torch.sum(token_embeddings * input_mask_expanded, 1)\n",
        "        sum_mask = torch.clamp(input_mask_expanded.sum(1), min=1e-9)  # Avoid division by zero\n",
        "        return sum_embeddings / sum_mask\n",
        "\n",
        "    # Processing Sentences and Forward Pass\n",
        "    def forward(self, sentences):\n",
        "        inputs = self.tokenizer(sentences, padding=True, truncation=True, return_tensors=\"pt\")\n",
        "        outputs = self.encoder(**inputs)\n",
        "        pooled_output = self.mean_pooling(outputs.last_hidden_state, inputs[\"attention_mask\"])\n",
        "\n",
        "        # Task A: Sentence Classification\n",
        "        class_logits = self.classifier(pooled_output)\n",
        "\n",
        "        return class_logits\n",
        "\n",
        "# Initialize sentence classification model\n",
        "sentence_classification_model = SentenceClassificationTransformer()\n",
        "# Defining Loss Function and Optimizer**\n",
        "\n",
        "# Define Loss Function\n",
        "classification_loss_fn = nn.CrossEntropyLoss()\n",
        "\n",
        "# Define Optimizer\n",
        "optimizer = optim.AdamW(sentence_classification_model.parameters(), lr=5e-5)\n",
        "\n",
        "# Training Step: Forward Pass + Loss Computation\n",
        "\n",
        "sample_sentences = [\"This is a test sentence.\", \"Sentence transformers generate embeddings.\"]\n",
        "sentence_labels = torch.tensor([0, 1])\n",
        "\n",
        "# Forward Pass\n",
        "class_logits = sentence_classification_model(sample_sentences)\n",
        "\n",
        "# Compute Loss\n",
        "classification_loss = classification_loss_fn(class_logits, sentence_labels)\n",
        "\n",
        "\n",
        "optimizer.zero_grad()\n",
        "classification_loss.backward()\n",
        "optimizer.step()\n",
        "\n",
        "print(\"Sentence Classification Output Shape:\", class_logits.shape)  # Expected: (batch_size, num_classes)\n"
      ]
    },
    {
      "cell_type": "code",
      "source": [],
      "metadata": {
        "id": "1WNzz48W0Odo"
      },
      "execution_count": null,
      "outputs": []
    }
  ]
}